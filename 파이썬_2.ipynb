{
  "nbformat": 4,
  "nbformat_minor": 0,
  "metadata": {
    "colab": {
      "provenance": []
    },
    "kernelspec": {
      "name": "python3",
      "display_name": "Python 3"
    },
    "language_info": {
      "name": "python"
    }
  },
  "cells": [
    {
      "cell_type": "markdown",
      "source": [
        "# 아래는 정리해서 담주에 할게요"
      ],
      "metadata": {
        "id": "QYjUA250wAfO"
      }
    },
    {
      "cell_type": "code",
      "source": [
        "a = 55\n",
        "if a % 2 == 1:\n",
        "  # 첫번째 if\n",
        "  print('홀수 입니다.')\n",
        "\n",
        "  if a > 50:\n",
        "    # 두번째\n",
        "    print('a는 50보다 큽니다.')\n",
        "# if문 탈출\n",
        "\n",
        "\n",
        "# %는 나머지 연산자"
      ],
      "metadata": {
        "id": "3tYvYrJFS-18"
      },
      "execution_count": null,
      "outputs": []
    },
    {
      "cell_type": "code",
      "source": [
        "print(range(10))\n",
        "# (0, 1, 2, 3, ... 9)\n",
        "print(range(1, 10))\n",
        "# (1, 2, 3, ... 9)"
      ],
      "metadata": {
        "colab": {
          "base_uri": "https://localhost:8080/"
        },
        "id": "x_VTy9CKW8dV",
        "outputId": "eadcac47-80d4-49c7-a363-a1762ddf4d44"
      },
      "execution_count": null,
      "outputs": [
        {
          "output_type": "stream",
          "name": "stdout",
          "text": [
            "range(0, 10)\n",
            "range(1, 10)\n"
          ]
        }
      ]
    },
    {
      "cell_type": "code",
      "source": [
        "for i in range(1, 10):\n",
        "  print(str(i)+ '번 실행되었습니다.')"
      ],
      "metadata": {
        "colab": {
          "base_uri": "https://localhost:8080/"
        },
        "id": "VMqorVY6WyOi",
        "outputId": "45408308-9433-49f6-a049-2103f6eed336"
      },
      "execution_count": null,
      "outputs": [
        {
          "output_type": "stream",
          "name": "stdout",
          "text": [
            "1번 실행되었습니다.\n",
            "2번 실행되었습니다.\n",
            "3번 실행되었습니다.\n",
            "4번 실행되었습니다.\n",
            "5번 실행되었습니다.\n",
            "6번 실행되었습니다.\n",
            "7번 실행되었습니다.\n",
            "8번 실행되었습니다.\n",
            "9번 실행되었습니다.\n"
          ]
        }
      ]
    },
    {
      "cell_type": "code",
      "source": [
        "num = 0\n",
        "while num < 4:\n",
        "  print(str(num)+'번 실행되었습니다.')\n",
        "  num += 1"
      ],
      "metadata": {
        "colab": {
          "base_uri": "https://localhost:8080/"
        },
        "id": "BpkVGuhBXE5d",
        "outputId": "126ee3bc-4b97-487f-d4d5-2c4691c6a00a"
      },
      "execution_count": null,
      "outputs": [
        {
          "output_type": "stream",
          "name": "stdout",
          "text": [
            "0번 실행되었습니다.\n",
            "1번 실행되었습니다.\n",
            "2번 실행되었습니다.\n",
            "3번 실행되었습니다.\n"
          ]
        }
      ]
    },
    {
      "cell_type": "code",
      "source": [
        "li = ['사과', '토마토', '바나나']\n",
        "print(li)\n",
        "\n",
        "for 과일 in li:\n",
        "  print(과일)"
      ],
      "metadata": {
        "colab": {
          "base_uri": "https://localhost:8080/"
        },
        "id": "dgOGHIRsXpiK",
        "outputId": "a7fb0cad-b14a-4a61-8b48-71d63fd2bfdb"
      },
      "execution_count": null,
      "outputs": [
        {
          "output_type": "stream",
          "name": "stdout",
          "text": [
            "['사과', '토마토', '바나나']\n",
            "사과\n",
            "토마토\n",
            "바나나\n"
          ]
        }
      ]
    },
    {
      "cell_type": "markdown",
      "source": [
        "# 반복문\n",
        "## for문\n",
        "- 횟수 중점을 두고 반복\n",
        "## while문\n",
        "- 조건 중점을 두고 반복"
      ],
      "metadata": {
        "id": "oAC4SvhxYImi"
      }
    },
    {
      "cell_type": "code",
      "source": [
        "\"\"\"\n",
        "int, bool(boolean), str(string), char\n",
        "\"\"\"\n",
        "\n",
        "print(True) # bool 타입\n",
        "print(False)\n",
        "\n",
        "# 파이썬은 True, False가 대문자로 시작\n",
        "\n",
        "print(0)\n",
        "print(bool(0))\n",
        "# 0과 1로 나눠짐\n",
        "# 0은 False, 1은 True"
      ],
      "metadata": {
        "colab": {
          "base_uri": "https://localhost:8080/"
        },
        "id": "fENUP04JfxQw",
        "outputId": "2a0f552c-027a-4377-9e67-b566754e4b16"
      },
      "execution_count": null,
      "outputs": [
        {
          "output_type": "stream",
          "name": "stdout",
          "text": [
            "True\n",
            "False\n",
            "0\n",
            "False\n"
          ]
        }
      ]
    },
    {
      "cell_type": "code",
      "source": [
        "'''\n",
        "a > b: a는 b보다 크다\n",
        "a == b: a와 b는 같다\n",
        "a >= b: a는 b보다 같거나 크다\n",
        "a != b: a와 b는 다르다\n",
        "'''\n",
        "print(1 > 2)\n",
        "print('a' > 'b') # 아스키코드 비교\n",
        "\n",
        "print(2 > 1 and 5 > 3)\n",
        "# c언어는 and 대신 &&   ->    print(2 > 1 && 5 > 3)\n",
        "print(2 > 1 or 5 > 3)\n",
        "\n",
        "print('-------')\n",
        "print(2 > 1)\n",
        "print(not 2 > 1)"
      ],
      "metadata": {
        "colab": {
          "base_uri": "https://localhost:8080/"
        },
        "id": "gEP1YxmthapF",
        "outputId": "5acda83c-1b09-4e7d-fb02-b8e799fd8f9e"
      },
      "execution_count": null,
      "outputs": [
        {
          "output_type": "stream",
          "name": "stdout",
          "text": [
            "False\n",
            "False\n",
            "True\n",
            "True\n",
            "-------\n",
            "True\n",
            "False\n"
          ]
        }
      ]
    },
    {
      "cell_type": "code",
      "source": [
        "a = 7\n",
        "b = 5\n",
        "# a랑 b 수 바꾸면서 해보기\n",
        "\n",
        "if a > b:\n",
        "  print('a는 b보다 큽니다.')\n",
        "elif a < b:                      # else if\n",
        "  print('a는 b보다 작습니다.')\n",
        "else:\n",
        "  print('a와 b는 같습니다.')"
      ],
      "metadata": {
        "colab": {
          "base_uri": "https://localhost:8080/"
        },
        "id": "HTPM18QLjcOF",
        "outputId": "53e74d18-5788-4b06-a3b5-9aef3ac72f8e"
      },
      "execution_count": null,
      "outputs": [
        {
          "output_type": "stream",
          "name": "stdout",
          "text": [
            "a는 b보다 큽니다.\n"
          ]
        }
      ]
    },
    {
      "cell_type": "code",
      "source": [
        "if True and False:\n",
        "  print('실행되지 않음.')\n",
        "\n",
        "if False or True and False: # and가 or보다 먼저\n",
        "  print('test')\n",
        "\n",
        "if False or (True and False): # 웬만하면 괄호쓰기\n",
        "  print('test')\n",
        "\n",
        "if (False or True) and False: # or부터 실행\n",
        "  print('test')"
      ],
      "metadata": {
        "id": "Rhio6dtfkt1y"
      },
      "execution_count": null,
      "outputs": []
    }
  ]
}